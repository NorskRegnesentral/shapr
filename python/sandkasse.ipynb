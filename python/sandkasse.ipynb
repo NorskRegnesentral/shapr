{
 "cells": [
  {
   "cell_type": "code",
   "execution_count": 8,
   "id": "7d4e5005",
   "metadata": {},
   "outputs": [],
   "source": [
    "# %pip install scikit-learn\n",
    "# %pip install pandas \n",
    "# %pip install statsmodels\n",
    "# %pip install xgboost\n",
    "# %pip install rpy2\n",
    "# %pip install shap\n",
    "# %pip install matplotlib\n",
    "# %pip install keras"
   ]
  },
  {
   "cell_type": "code",
   "execution_count": 9,
   "id": "302c874b",
   "metadata": {},
   "outputs": [],
   "source": [
    "from sklearn.ensemble import RandomForestRegressor\n",
    "from shaprpy.datasets import load_california_housing\n",
    "\n",
    "import pandas as pd\n",
    "import xgboost as xgb\n",
    "from statsmodels.datasets import get_rdataset\n",
    "from shaprpy import explain"
   ]
  },
  {
   "cell_type": "code",
   "execution_count": 10,
   "id": "5c31c238",
   "metadata": {},
   "outputs": [],
   "source": [
    "def xgboost_model(x_train, y_train, from_file, filename=None): \n",
    "    if (from_file): \n",
    "        if ( not filename):\n",
    "            filename = '../xgboost_model'\n",
    "        model = xgb.Booster()\n",
    "        model.load_model(filename)\n",
    "        model.feature_names = x_train.columns.tolist()\n",
    "    else: \n",
    "        model = xgb.XGBRegressor(n_estimators=20, verbosity=0)\n",
    "        model.fit(x_train, y_train)\n",
    "    return model"
   ]
  },
  {
   "cell_type": "markdown",
   "id": "0a0867ac",
   "metadata": {},
   "source": [
    "### Verifying against R results"
   ]
  },
  {
   "cell_type": "code",
   "execution_count": 11,
   "id": "dde6d183",
   "metadata": {},
   "outputs": [],
   "source": [
    "airquality = get_rdataset(\"airquality\", \"datasets\").data\n",
    "data = airquality.dropna()\n",
    "\n",
    "x_var = [\"Solar.R\", \"Wind\", \"Temp\", \"Month\"]\n",
    "y_var = \"Ozone\"\n",
    "\n",
    "x_train = data[x_var]\n",
    "y_train = data[y_var]"
   ]
  },
  {
   "cell_type": "code",
   "execution_count": 12,
   "id": "1d43ed9b",
   "metadata": {},
   "outputs": [],
   "source": [
    "model = xgboost_model(x_train=x_train, y_train=y_train, from_file=True)"
   ]
  },
  {
   "cell_type": "code",
   "execution_count": 15,
   "id": "8d28844a",
   "metadata": {},
   "outputs": [
    {
     "name": "stdout",
     "output_type": "stream",
     "text": [
      "   explain_id         none    Solar.R        Wind        Temp     Month\n",
      "1         NaN -1097.314474  146.53804  442.288023  498.620822  3.502053\n"
     ]
    }
   ],
   "source": [
    "explanation_SAGE = explain(\n",
    "    model = model,\n",
    "    x_train = x_train,\n",
    "    x_explain = x_train,\n",
    "    approach = 'independence',\n",
    "    phi0 = y_train.mean().item(),\n",
    "    seed=1,\n",
    "    sage = True, \n",
    "    response = y_train, \n",
    "    verbose = None\n",
    ")\n",
    "\n",
    "print(explanation_SAGE[\"shapley_values_est\"])"
   ]
  },
  {
   "cell_type": "code",
   "execution_count": 14,
   "id": "dfaea89d",
   "metadata": {},
   "outputs": [
    {
     "name": "stdout",
     "output_type": "stream",
     "text": [
      "     explain_id       none   Solar.R       Wind       Temp     Month\n",
      "1             1  42.099098  3.030332   4.310215 -12.861986  3.110408\n",
      "2             2  42.099098 -3.358880   3.691014 -11.697075  2.388401\n",
      "3             3  42.099099 -2.793629  -9.692032 -18.139897  1.190093\n",
      "4             4  42.099099 -0.513363  -9.576654 -14.383259  0.620829\n",
      "5             5  42.099101 -1.579514  -2.804843 -15.939206  1.133936\n",
      "..          ...        ...       ...        ...        ...       ...\n",
      "107         107  42.099097 -7.574907  -9.163595 -11.039575 -0.891674\n",
      "108         108  42.099099  1.318196   2.753162 -14.009171 -2.367950\n",
      "109         109  42.099099 -0.217088 -10.508347 -15.175035 -1.497503\n",
      "110         110  42.099100 -2.635532   1.077513 -18.545079 -2.513320\n",
      "111         111  42.099100  4.344556 -11.707045 -13.445780 -1.158783\n",
      "\n",
      "[111 rows x 6 columns]\n"
     ]
    }
   ],
   "source": [
    "explanation_SHAP = explain(   \n",
    "    model = model,\n",
    "    x_train = x_train,\n",
    "    x_explain = x_train,\n",
    "    approach = 'independence',\n",
    "    phi0 = float(y_train.mean().item()),\n",
    "    seed= 1,\n",
    "    verbose = None\n",
    ")\n",
    "\n",
    "print(explanation_SHAP[\"shapley_values_est\"])"
   ]
  }
 ],
 "metadata": {
  "kernelspec": {
   "display_name": "shapr-venv",
   "language": "python",
   "name": "python3"
  },
  "language_info": {
   "codemirror_mode": {
    "name": "ipython",
    "version": 3
   },
   "file_extension": ".py",
   "mimetype": "text/x-python",
   "name": "python",
   "nbconvert_exporter": "python",
   "pygments_lexer": "ipython3",
   "version": "3.10.12"
  }
 },
 "nbformat": 4,
 "nbformat_minor": 5
}
