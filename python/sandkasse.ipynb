{
 "cells": [
  {
   "cell_type": "code",
   "execution_count": 1,
   "id": "7d4e5005",
   "metadata": {},
   "outputs": [],
   "source": [
    "# %pip install scikit-learn\n",
    "# %pip install pandas \n",
    "# %pip install statsmodels\n",
    "# %pip install xgboost\n",
    "# %pip install rpy2\n",
    "# %pip install shap\n",
    "# %pip install matplotlib\n",
    "# %pip install keras"
   ]
  },
  {
   "cell_type": "code",
   "execution_count": 2,
   "id": "302c874b",
   "metadata": {},
   "outputs": [
    {
     "name": "stderr",
     "output_type": "stream",
     "text": [
      "/nr/samba/user/jbjornstad/shapr-venv/lib/python3.10/site-packages/rpy2/rinterface/__init__.py:1211: UserWarning: Environment variable \"LD_LIBRARY_PATH\" redefined by R and overriding existing variable. Current: \"/nr/samba/user/jbjornstad/opt/R-4.4.2/lib:/nr/samba/user/jbjornstad/opt/R-4.4.2/lib/R/lib:/nr/samba/user/jbjornstad/opt/R-4.4.2/lib:/nr/samba/user/jbjornstad/opt/R-4.4.2/lib/R/lib:\", R: \"/nr/samba/user/jbjornstad/opt/R-4.4.2/lib:/usr/local/lib:/nr/samba/user/jbjornstad/opt/R-4.4.2/lib:/nr/samba/user/jbjornstad/opt/R-4.4.2/lib/R/lib:/nr/samba/user/jbjornstad/opt/R-4.4.2/lib:/nr/samba/user/jbjornstad/opt/R-4.4.2/lib/R/lib:\"\n",
      "  warnings.warn(\n",
      "/nr/samba/user/jbjornstad/shapr-venv/lib/python3.10/site-packages/rpy2/rinterface/__init__.py:1211: UserWarning: Environment variable \"PWD\" redefined by R and overriding existing variable. Current: \"/nr/samba/user/jbjornstad\", R: \"/nr/samba/user/jbjornstad/shapr/python\"\n",
      "  warnings.warn(\n",
      "/nr/samba/user/jbjornstad/shapr-venv/lib/python3.10/site-packages/rpy2/rinterface/__init__.py:1211: UserWarning: Environment variable \"LD_LIBRARY_PATH\" redefined by R and overriding existing variable. Current: \"/nr/samba/user/jbjornstad/opt/R-4.4.2/lib:/usr/local/lib:/nr/samba/user/jbjornstad/opt/R-4.4.2/lib:/nr/samba/user/jbjornstad/opt/R-4.4.2/lib/R/lib:/nr/samba/user/jbjornstad/opt/R-4.4.2/lib:/nr/samba/user/jbjornstad/opt/R-4.4.2/lib/R/lib:\", R: \"/nr/samba/user/jbjornstad/opt/R-4.4.2/lib:/usr/local/lib:/nr/samba/user/jbjornstad/opt/R-4.4.2/lib:/usr/local/lib:/nr/samba/user/jbjornstad/opt/R-4.4.2/lib:/nr/samba/user/jbjornstad/opt/R-4.4.2/lib/R/lib:/nr/samba/user/jbjornstad/opt/R-4.4.2/lib:/nr/samba/user/jbjornstad/opt/R-4.4.2/lib/R/lib:\"\n",
      "  warnings.warn(\n",
      "/nr/samba/user/jbjornstad/shapr-venv/lib/python3.10/site-packages/rpy2/rinterface/__init__.py:1211: UserWarning: Environment variable \"R_SESSION_TMPDIR\" redefined by R and overriding existing variable. Current: \"/tmp/Rtmp7HYWQf\", R: \"/tmp/RtmpC7UpQF\"\n",
      "  warnings.warn(\n"
     ]
    }
   ],
   "source": [
    "from sklearn.ensemble import RandomForestRegressor\n",
    "from shaprpy.datasets import load_california_housing\n",
    "\n",
    "import pandas as pd\n",
    "import xgboost as xgb\n",
    "from statsmodels.datasets import get_rdataset\n",
    "from shaprpy import explain\n",
    "import shap as shap"
   ]
  },
  {
   "cell_type": "code",
   "execution_count": 3,
   "id": "5c31c238",
   "metadata": {},
   "outputs": [],
   "source": [
    "def xgboost_model(x_train, y_train, from_file, filename=None): \n",
    "    if (from_file): \n",
    "        if ( not filename):\n",
    "            filename = '../xgboost_model'\n",
    "        model = xgb.Booster()\n",
    "        model.load_model(filename)\n",
    "        model.feature_names = x_train.columns.tolist()\n",
    "    else: \n",
    "        model = xgb.XGBRegressor(n_estimators=20, verbosity=0)\n",
    "        model.fit(x_train, y_train)\n",
    "    return model"
   ]
  },
  {
   "cell_type": "markdown",
   "id": "0a0867ac",
   "metadata": {},
   "source": [
    "### Verifying against R results"
   ]
  },
  {
   "cell_type": "code",
   "execution_count": 4,
   "id": "dde6d183",
   "metadata": {},
   "outputs": [],
   "source": [
    "airquality = get_rdataset(\"airquality\", \"datasets\").data\n",
    "data = airquality.dropna()\n",
    "\n",
    "x_var = [\"Solar.R\", \"Wind\", \"Temp\", \"Month\"]\n",
    "y_var = \"Ozone\"\n",
    "\n",
    "x_train = data[x_var]\n",
    "y_train = data[y_var]"
   ]
  },
  {
   "cell_type": "code",
   "execution_count": 5,
   "id": "1d43ed9b",
   "metadata": {},
   "outputs": [],
   "source": [
    "model = xgboost_model(x_train=x_train, y_train=y_train, from_file=True)"
   ]
  },
  {
   "cell_type": "code",
   "execution_count": 6,
   "id": "8d28844a",
   "metadata": {},
   "outputs": [
    {
     "name": "stdout",
     "output_type": "stream",
     "text": [
      "   explain_id         none    Solar.R        Wind        Temp     Month\n",
      "1         NaN -1097.314474  146.53804  442.288023  498.620822  3.502053\n"
     ]
    }
   ],
   "source": [
    "explanation_SAGE = explain(\n",
    "    model = model,\n",
    "    x_train = x_train,\n",
    "    x_explain = x_train,\n",
    "    approach = 'independence',\n",
    "    phi0 = y_train.mean().item(),\n",
    "    seed=1,\n",
    "    sage = True, \n",
    "    response = y_train, \n",
    "    verbose = None\n",
    ")\n",
    "\n",
    "print(explanation_SAGE[\"shapley_values_est\"])"
   ]
  },
  {
   "cell_type": "code",
   "execution_count": 7,
   "id": "dfaea89d",
   "metadata": {},
   "outputs": [
    {
     "name": "stdout",
     "output_type": "stream",
     "text": [
      "<class 'pandas.core.frame.DataFrame'>\n"
     ]
    }
   ],
   "source": [
    "explanation_SHAP = explain(   \n",
    "    model = model,\n",
    "    x_train = x_train,\n",
    "    x_explain = x_train,\n",
    "    approach = 'independence',\n",
    "    phi0 = float(y_train.mean().item()),\n",
    "    seed= 1,\n",
    "    verbose = None\n",
    ")\n",
    "\n",
    "print(type(explanation_SHAP[\"shapley_values_est\"]))"
   ]
  },
  {
   "cell_type": "markdown",
   "id": "16dfb445",
   "metadata": {},
   "source": [
    "### Test plotting"
   ]
  },
  {
   "cell_type": "code",
   "execution_count": 8,
   "id": "98eeae0d",
   "metadata": {},
   "outputs": [],
   "source": [
    "from shaprpy.plot import plot"
   ]
  },
  {
   "cell_type": "code",
   "execution_count": 9,
   "id": "88482202",
   "metadata": {},
   "outputs": [],
   "source": [
    "from shap import plots, Explanation"
   ]
  },
  {
   "cell_type": "code",
   "execution_count": null,
   "id": "612c8826",
   "metadata": {},
   "outputs": [],
   "source": []
  },
  {
   "cell_type": "code",
   "execution_count": 10,
   "id": "905410a3",
   "metadata": {},
   "outputs": [],
   "source": [
    "shap_values_df = explanation_SHAP['shapley_values_est'].iloc[[1]]\n",
    "feature_names = shap_values_df.columns.drop(['explain_id', 'none'])\n",
    "\n",
    "shap_vals = shap_values_df[feature_names].values\n",
    "base_values = shap_values_df[\"none\"].values\n",
    "data = shap_values_df[feature_names].values\n",
    "\n",
    "explanation = Explanation(\n",
    "    values=shap_vals,\n",
    "    base_values=base_values,\n",
    "    data=data,\n",
    "    feature_names=feature_names.tolist()\n",
    ")"
   ]
  },
  {
   "cell_type": "code",
   "execution_count": 11,
   "id": "3e1ec2e5",
   "metadata": {},
   "outputs": [],
   "source": [
    "explainer = shap.Explainer(model)\n",
    "shap_values = explainer(x_train)"
   ]
  },
  {
   "cell_type": "code",
   "execution_count": 12,
   "id": "c9391c41",
   "metadata": {},
   "outputs": [
    {
     "name": "stdout",
     "output_type": "stream",
     "text": [
      "     explain_id       none   Solar.R       Wind       Temp     Month\n",
      "1             1  42.099098  3.030332   4.310215 -12.861986  3.110408\n",
      "2             2  42.099098 -3.358880   3.691014 -11.697075  2.388401\n",
      "3             3  42.099099 -2.793629  -9.692032 -18.139897  1.190093\n",
      "4             4  42.099099 -0.513363  -9.576654 -14.383259  0.620829\n",
      "5             5  42.099101 -1.579514  -2.804843 -15.939206  1.133936\n",
      "..          ...        ...       ...        ...        ...       ...\n",
      "107         107  42.099097 -7.574907  -9.163595 -11.039575 -0.891674\n",
      "108         108  42.099099  1.318196   2.753162 -14.009171 -2.367950\n",
      "109         109  42.099099 -0.217088 -10.508347 -15.175035 -1.497503\n",
      "110         110  42.099100 -2.635532   1.077513 -18.545079 -2.513320\n",
      "111         111  42.099100  4.344556 -11.707045 -13.445780 -1.158783\n",
      "\n",
      "[111 rows x 6 columns]\n"
     ]
    }
   ],
   "source": [
    "print(explanation_SHAP[\"shapley_values_est\"])"
   ]
  },
  {
   "cell_type": "code",
   "execution_count": 13,
   "id": "32da5117",
   "metadata": {},
   "outputs": [
    {
     "name": "stdout",
     "output_type": "stream",
     "text": [
      "     explain_id       none   Solar.R       Wind       Temp     Month\n",
      "1             1  42.099098  3.030332   4.310215 -12.861986  3.110408\n",
      "2             2  42.099098 -3.358880   3.691014 -11.697075  2.388401\n",
      "3             3  42.099099 -2.793629  -9.692032 -18.139897  1.190093\n",
      "4             4  42.099099 -0.513363  -9.576654 -14.383259  0.620829\n",
      "5             5  42.099101 -1.579514  -2.804843 -15.939206  1.133936\n",
      "..          ...        ...       ...        ...        ...       ...\n",
      "107         107  42.099097 -7.574907  -9.163595 -11.039575 -0.891674\n",
      "108         108  42.099099  1.318196   2.753162 -14.009171 -2.367950\n",
      "109         109  42.099099 -0.217088 -10.508347 -15.175035 -1.497503\n",
      "110         110  42.099100 -2.635532   1.077513 -18.545079 -2.513320\n",
      "111         111  42.099100  4.344556 -11.707045 -13.445780 -1.158783\n",
      "\n",
      "[111 rows x 6 columns]\n"
     ]
    }
   ],
   "source": [
    "print(explanation_SHAP[\"internal\"][\"output\"][\"shap_values_est\"])"
   ]
  },
  {
   "cell_type": "code",
   "execution_count": 14,
   "id": "9e7d1fcd",
   "metadata": {},
   "outputs": [
    {
     "name": "stdout",
     "output_type": "stream",
     "text": [
      "          none   Solar.R       Wind       Temp     Month\n",
      "1    42.099098  3.030332   4.310215 -12.861986  3.110408\n",
      "2    42.099098 -3.358880   3.691014 -11.697075  2.388401\n",
      "3    42.099099 -2.793629  -9.692032 -18.139897  1.190093\n",
      "4    42.099099 -0.513363  -9.576654 -14.383259  0.620829\n",
      "5    42.099101 -1.579514  -2.804843 -15.939206  1.133936\n",
      "..         ...       ...        ...        ...       ...\n",
      "107  42.099097 -7.574907  -9.163595 -11.039575 -0.891674\n",
      "108  42.099099  1.318196   2.753162 -14.009171 -2.367950\n",
      "109  42.099099 -0.217088 -10.508347 -15.175035 -1.497503\n",
      "110  42.099100 -2.635532   1.077513 -18.545079 -2.513320\n",
      "111  42.099100  4.344556 -11.707045 -13.445780 -1.158783\n",
      "\n",
      "[111 rows x 5 columns]\n"
     ]
    }
   ],
   "source": [
    "print(explanation_SAGE[\"internal\"][\"output\"][\"shap_values_est\"])"
   ]
  },
  {
   "cell_type": "code",
   "execution_count": 15,
   "id": "23700b30",
   "metadata": {},
   "outputs": [
    {
     "name": "stdout",
     "output_type": "stream",
     "text": [
      "[[190.    7.4  67.    5. ]\n",
      " [118.    8.   72.    5. ]\n",
      " [149.   12.6  74.    5. ]\n",
      " [313.   11.5  62.    5. ]\n",
      " [299.    8.6  65.    5. ]\n",
      " [ 99.   13.8  59.    5. ]\n",
      " [ 19.   20.1  61.    5. ]\n",
      " [256.    9.7  69.    5. ]\n",
      " [290.    9.2  66.    5. ]\n",
      " [274.   10.9  68.    5. ]\n",
      " [ 65.   13.2  58.    5. ]\n",
      " [334.   11.5  64.    5. ]\n",
      " [307.   12.   66.    5. ]\n",
      " [ 78.   18.4  57.    5. ]\n",
      " [322.   11.5  68.    5. ]\n",
      " [ 44.    9.7  62.    5. ]\n",
      " [  8.    9.7  59.    5. ]\n",
      " [320.   16.6  73.    5. ]\n",
      " [ 25.    9.7  61.    5. ]\n",
      " [ 92.   12.   61.    5. ]\n",
      " [ 13.   12.   67.    5. ]\n",
      " [252.   14.9  81.    5. ]\n",
      " [223.    5.7  79.    5. ]\n",
      " [279.    7.4  76.    5. ]\n",
      " [127.    9.7  82.    6. ]\n",
      " [291.   13.8  90.    6. ]\n",
      " [323.   11.5  87.    6. ]\n",
      " [148.    8.   82.    6. ]\n",
      " [191.   14.9  77.    6. ]\n",
      " [284.   20.7  72.    6. ]\n",
      " [ 37.    9.2  65.    6. ]\n",
      " [120.   11.5  73.    6. ]\n",
      " [137.   10.3  76.    6. ]\n",
      " [269.    4.1  84.    7. ]\n",
      " [248.    9.2  85.    7. ]\n",
      " [236.    9.2  81.    7. ]\n",
      " [175.    4.6  83.    7. ]\n",
      " [314.   10.9  83.    7. ]\n",
      " [276.    5.1  88.    7. ]\n",
      " [267.    6.3  92.    7. ]\n",
      " [272.    5.7  92.    7. ]\n",
      " [175.    7.4  89.    7. ]\n",
      " [264.   14.3  73.    7. ]\n",
      " [175.   14.9  81.    7. ]\n",
      " [ 48.   14.3  80.    7. ]\n",
      " [260.    6.9  81.    7. ]\n",
      " [274.   10.3  82.    7. ]\n",
      " [285.    6.3  84.    7. ]\n",
      " [187.    5.1  87.    7. ]\n",
      " [220.   11.5  85.    7. ]\n",
      " [  7.    6.9  74.    7. ]\n",
      " [294.    8.6  86.    7. ]\n",
      " [223.    8.   85.    7. ]\n",
      " [ 81.    8.6  82.    7. ]\n",
      " [ 82.   12.   86.    7. ]\n",
      " [213.    7.4  88.    7. ]\n",
      " [275.    7.4  86.    7. ]\n",
      " [253.    7.4  83.    7. ]\n",
      " [254.    9.2  81.    7. ]\n",
      " [ 83.    6.9  81.    8. ]\n",
      " [ 24.   13.8  81.    8. ]\n",
      " [ 77.    7.4  82.    8. ]\n",
      " [255.    4.   89.    8. ]\n",
      " [229.   10.3  90.    8. ]\n",
      " [207.    8.   90.    8. ]\n",
      " [192.   11.5  86.    8. ]\n",
      " [273.   11.5  82.    8. ]\n",
      " [157.    9.7  80.    8. ]\n",
      " [ 71.   10.3  77.    8. ]\n",
      " [ 51.    6.3  79.    8. ]\n",
      " [115.    7.4  76.    8. ]\n",
      " [244.   10.9  78.    8. ]\n",
      " [190.   10.3  78.    8. ]\n",
      " [259.   15.5  77.    8. ]\n",
      " [ 36.   14.3  72.    8. ]\n",
      " [212.    9.7  79.    8. ]\n",
      " [238.    3.4  81.    8. ]\n",
      " [215.    8.   86.    8. ]\n",
      " [203.    9.7  97.    8. ]\n",
      " [225.    2.3  94.    8. ]\n",
      " [237.    6.3  96.    8. ]\n",
      " [188.    6.3  94.    8. ]\n",
      " [167.    6.9  91.    9. ]\n",
      " [197.    5.1  92.    9. ]\n",
      " [183.    2.8  93.    9. ]\n",
      " [189.    4.6  93.    9. ]\n",
      " [ 95.    7.4  87.    9. ]\n",
      " [ 92.   15.5  84.    9. ]\n",
      " [252.   10.9  80.    9. ]\n",
      " [220.   10.3  78.    9. ]\n",
      " [230.   10.9  75.    9. ]\n",
      " [259.    9.7  73.    9. ]\n",
      " [236.   14.9  81.    9. ]\n",
      " [259.   15.5  76.    9. ]\n",
      " [238.    6.3  77.    9. ]\n",
      " [ 24.   10.9  71.    9. ]\n",
      " [112.   11.5  71.    9. ]\n",
      " [237.    6.9  78.    9. ]\n",
      " [224.   13.8  67.    9. ]\n",
      " [ 27.   10.3  76.    9. ]\n",
      " [238.   10.3  68.    9. ]\n",
      " [201.    8.   82.    9. ]\n",
      " [238.   12.6  64.    9. ]\n",
      " [ 14.    9.2  71.    9. ]\n",
      " [139.   10.3  81.    9. ]\n",
      " [ 49.   10.3  69.    9. ]\n",
      " [ 20.   16.6  63.    9. ]\n",
      " [193.    6.9  70.    9. ]\n",
      " [191.   14.3  75.    9. ]\n",
      " [131.    8.   76.    9. ]\n",
      " [223.   11.5  68.    9. ]]\n"
     ]
    }
   ],
   "source": [
    "print(shap_values.data)"
   ]
  },
  {
   "cell_type": "code",
   "execution_count": null,
   "id": "f61d128b",
   "metadata": {},
   "outputs": [
    {
     "name": "stdout",
     "output_type": "stream",
     "text": [
      "5\n"
     ]
    },
    {
     "ename": "ValueError",
     "evalue": "The ax parameter is not supported when plotting multiple features",
     "output_type": "error",
     "traceback": [
      "\u001b[0;31m---------------------------------------------------------------------------\u001b[0m",
      "\u001b[0;31mValueError\u001b[0m                                Traceback (most recent call last)",
      "Cell \u001b[0;32mIn[16], line 1\u001b[0m\n\u001b[0;32m----> 1\u001b[0m \u001b[43mplot\u001b[49m\u001b[43m(\u001b[49m\u001b[43mexplanation_SAGE\u001b[49m\u001b[43m,\u001b[49m\u001b[43m \u001b[49m\u001b[43mplot_type\u001b[49m\u001b[38;5;241;43m=\u001b[39;49m\u001b[38;5;124;43m\"\u001b[39;49m\u001b[38;5;124;43mscatter\u001b[39;49m\u001b[38;5;124;43m\"\u001b[39;49m\u001b[43m,\u001b[49m\u001b[43m \u001b[49m\u001b[43midx\u001b[49m\u001b[38;5;241;43m=\u001b[39;49m\u001b[38;5;28;43mslice\u001b[39;49m\u001b[43m(\u001b[49m\u001b[38;5;241;43m5\u001b[39;49m\u001b[43m,\u001b[49m\u001b[38;5;241;43m10\u001b[39;49m\u001b[43m)\u001b[49m\u001b[43m,\u001b[49m\u001b[43m \u001b[49m\u001b[43mindirect_values\u001b[49m\u001b[38;5;241;43m=\u001b[39;49m\u001b[38;5;28;43;01mTrue\u001b[39;49;00m\u001b[43m)\u001b[49m\n",
      "File \u001b[0;32m~/shapr/python/shaprpy/plot.py:102\u001b[0m, in \u001b[0;36mplot\u001b[0;34m(shaprpy_obj, plot_type, plot_mean, idx, indirect_values, **kwargs)\u001b[0m\n\u001b[1;32m     99\u001b[0m \u001b[38;5;28;01mfor\u001b[39;00m i \u001b[38;5;129;01min\u001b[39;00m \u001b[38;5;28mrange\u001b[39m(n_explain): \n\u001b[1;32m    100\u001b[0m     ax \u001b[38;5;241m=\u001b[39m axes[i]\n\u001b[0;32m--> 102\u001b[0m     \u001b[38;5;28;43mgetattr\u001b[39;49m\u001b[43m(\u001b[49m\u001b[43mplots\u001b[49m\u001b[43m,\u001b[49m\u001b[43m \u001b[49m\u001b[43mplot_type\u001b[49m\u001b[43m)\u001b[49m\u001b[43m(\u001b[49m\u001b[43mexplanation\u001b[49m\u001b[43m[\u001b[49m\u001b[43mi\u001b[49m\u001b[43m]\u001b[49m\u001b[43m,\u001b[49m\u001b[43m \u001b[49m\u001b[43mshow\u001b[49m\u001b[43m \u001b[49m\u001b[38;5;241;43m=\u001b[39;49m\u001b[43m \u001b[49m\u001b[38;5;28;43;01mFalse\u001b[39;49;00m\u001b[43m,\u001b[49m\u001b[43m \u001b[49m\u001b[43max\u001b[49m\u001b[43m \u001b[49m\u001b[38;5;241;43m=\u001b[39;49m\u001b[43m \u001b[49m\u001b[43max\u001b[49m\u001b[43m,\u001b[49m\u001b[43m \u001b[49m\u001b[38;5;241;43m*\u001b[39;49m\u001b[38;5;241;43m*\u001b[39;49m\u001b[43mkwargs\u001b[49m\u001b[43m)\u001b[49m\n\u001b[1;32m    104\u001b[0m     ax\u001b[38;5;241m.\u001b[39myaxis\u001b[38;5;241m.\u001b[39mset_tick_params(pad\u001b[38;5;241m=\u001b[39m\u001b[38;5;241m20\u001b[39m)\n\u001b[1;32m    106\u001b[0m \u001b[38;5;28;01mif\u001b[39;00m(n_explain \u001b[38;5;241m%\u001b[39m \u001b[38;5;241m2\u001b[39m \u001b[38;5;241m==\u001b[39m \u001b[38;5;241m1\u001b[39m): \n",
      "File \u001b[0;32m~/shapr-venv/lib/python3.10/site-packages/shap/plots/_scatter.py:137\u001b[0m, in \u001b[0;36mscatter\u001b[0;34m(shap_values, color, hist, axis_color, cmap, dot_size, x_jitter, alpha, title, xmin, xmax, ymin, ymax, overlay, ax, ylabel, show)\u001b[0m\n\u001b[1;32m    135\u001b[0m \u001b[38;5;28;01mif\u001b[39;00m \u001b[38;5;129;01mnot\u001b[39;00m \u001b[38;5;28misinstance\u001b[39m(shap_values\u001b[38;5;241m.\u001b[39mfeature_names, \u001b[38;5;28mstr\u001b[39m) \u001b[38;5;129;01mand\u001b[39;00m \u001b[38;5;28mlen\u001b[39m(shap_values\u001b[38;5;241m.\u001b[39mfeature_names) \u001b[38;5;241m>\u001b[39m \u001b[38;5;241m0\u001b[39m:\n\u001b[1;32m    136\u001b[0m     \u001b[38;5;28;01mif\u001b[39;00m ax \u001b[38;5;129;01mis\u001b[39;00m \u001b[38;5;129;01mnot\u001b[39;00m \u001b[38;5;28;01mNone\u001b[39;00m:\n\u001b[0;32m--> 137\u001b[0m         \u001b[38;5;28;01mraise\u001b[39;00m \u001b[38;5;167;01mValueError\u001b[39;00m(\u001b[38;5;124m\"\u001b[39m\u001b[38;5;124mThe ax parameter is not supported when plotting multiple features\u001b[39m\u001b[38;5;124m\"\u001b[39m)\n\u001b[1;32m    138\u001b[0m     \u001b[38;5;66;03m# Define order of columns (features) to plot based on average shap value\u001b[39;00m\n\u001b[1;32m    139\u001b[0m     inds \u001b[38;5;241m=\u001b[39m np\u001b[38;5;241m.\u001b[39margsort(np\u001b[38;5;241m.\u001b[39mabs(shap_values\u001b[38;5;241m.\u001b[39mvalues)\u001b[38;5;241m.\u001b[39mmean(\u001b[38;5;241m0\u001b[39m))\n",
      "\u001b[0;31mValueError\u001b[0m: The ax parameter is not supported when plotting multiple features"
     ]
    },
    {
     "data": {
      "image/png": "[encoded data removed]",
      "text/plain": [
       "<Figure size 1200x600 with 6 Axes>"
      ]
     },
     "metadata": {},
     "output_type": "display_data"
    }
   ],
   "source": [
    "plot(explanation_SAGE, plot_type=\"scatter\", idx=slice(5,10), indirect_values=True)"
   ]
  }
 ],
 "metadata": {
  "kernelspec": {
   "display_name": "shapr-venv",
   "language": "python",
   "name": "python3"
  },
  "language_info": {
   "codemirror_mode": {
    "name": "ipython",
    "version": 3
   },
   "file_extension": ".py",
   "mimetype": "text/x-python",
   "name": "python",
   "nbconvert_exporter": "python",
   "pygments_lexer": "ipython3",
   "version": "3.10.12"
  }
 },
 "nbformat": 4,
 "nbformat_minor": 5
}
