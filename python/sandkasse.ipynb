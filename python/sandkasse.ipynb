{
 "cells": [
  {
   "cell_type": "code",
   "execution_count": 1,
   "id": "7d4e5005",
   "metadata": {},
   "outputs": [],
   "source": [
    "# %pip install scikit-learn\n",
    "# %pip install pandas \n",
    "# %pip install statsmodels\n",
    "# %pip install xgboost\n",
    "# %pip install rpy2\n",
    "# %pip install shap\n",
    "# %pip install matplotlib\n",
    "# %pip install keras"
   ]
  },
  {
   "cell_type": "code",
   "execution_count": 2,
   "id": "302c874b",
   "metadata": {},
   "outputs": [
    {
     "name": "stderr",
     "output_type": "stream",
     "text": [
      "/nr/samba/user/jbjornstad/shapr-venv/lib/python3.10/site-packages/rpy2/rinterface/__init__.py:1211: UserWarning: Environment variable \"LD_LIBRARY_PATH\" redefined by R and overriding existing variable. Current: \"/nr/samba/user/jbjornstad/opt/R-4.4.2/lib:/nr/samba/user/jbjornstad/opt/R-4.4.2/lib/R/lib:/nr/samba/user/jbjornstad/opt/R-4.4.2/lib:/nr/samba/user/jbjornstad/opt/R-4.4.2/lib/R/lib:\", R: \"/nr/samba/user/jbjornstad/opt/R-4.4.2/lib:/usr/local/lib:/nr/samba/user/jbjornstad/opt/R-4.4.2/lib:/nr/samba/user/jbjornstad/opt/R-4.4.2/lib/R/lib:/nr/samba/user/jbjornstad/opt/R-4.4.2/lib:/nr/samba/user/jbjornstad/opt/R-4.4.2/lib/R/lib:\"\n",
      "  warnings.warn(\n",
      "/nr/samba/user/jbjornstad/shapr-venv/lib/python3.10/site-packages/rpy2/rinterface/__init__.py:1211: UserWarning: Environment variable \"PWD\" redefined by R and overriding existing variable. Current: \"/nr/samba/user/jbjornstad\", R: \"/nr/samba/user/jbjornstad/shapr/python\"\n",
      "  warnings.warn(\n",
      "/nr/samba/user/jbjornstad/shapr-venv/lib/python3.10/site-packages/rpy2/rinterface/__init__.py:1211: UserWarning: Environment variable \"LD_LIBRARY_PATH\" redefined by R and overriding existing variable. Current: \"/nr/samba/user/jbjornstad/opt/R-4.4.2/lib:/usr/local/lib:/nr/samba/user/jbjornstad/opt/R-4.4.2/lib:/nr/samba/user/jbjornstad/opt/R-4.4.2/lib/R/lib:/nr/samba/user/jbjornstad/opt/R-4.4.2/lib:/nr/samba/user/jbjornstad/opt/R-4.4.2/lib/R/lib:\", R: \"/nr/samba/user/jbjornstad/opt/R-4.4.2/lib:/usr/local/lib:/nr/samba/user/jbjornstad/opt/R-4.4.2/lib:/usr/local/lib:/nr/samba/user/jbjornstad/opt/R-4.4.2/lib:/nr/samba/user/jbjornstad/opt/R-4.4.2/lib/R/lib:/nr/samba/user/jbjornstad/opt/R-4.4.2/lib:/nr/samba/user/jbjornstad/opt/R-4.4.2/lib/R/lib:\"\n",
      "  warnings.warn(\n",
      "/nr/samba/user/jbjornstad/shapr-venv/lib/python3.10/site-packages/rpy2/rinterface/__init__.py:1211: UserWarning: Environment variable \"R_SESSION_TMPDIR\" redefined by R and overriding existing variable. Current: \"/tmp/RtmpYdvEpR\", R: \"/tmp/RtmpqJha1l\"\n",
      "  warnings.warn(\n"
     ]
    }
   ],
   "source": [
    "from sklearn.ensemble import RandomForestRegressor\n",
    "from shaprpy.datasets import load_california_housing\n",
    "\n",
    "import pandas as pd\n",
    "import xgboost as xgb\n",
    "from statsmodels.datasets import get_rdataset\n",
    "from shaprpy import explain\n",
    "import shap as shap"
   ]
  },
  {
   "cell_type": "code",
   "execution_count": 3,
   "id": "5c31c238",
   "metadata": {},
   "outputs": [],
   "source": [
    "def xgboost_model(x_train, y_train, from_file, filename=None): \n",
    "    if (from_file): \n",
    "        if ( not filename):\n",
    "            filename = '../xgboost_model'\n",
    "        model = xgb.Booster()\n",
    "        model.load_model(filename)\n",
    "        model.feature_names = x_train.columns.tolist()\n",
    "    else: \n",
    "        model = xgb.XGBRegressor(n_estimators=20, verbosity=0)\n",
    "        model.fit(x_train, y_train)\n",
    "    return model"
   ]
  },
  {
   "cell_type": "markdown",
   "id": "0a0867ac",
   "metadata": {},
   "source": [
    "### Verifying against R results"
   ]
  },
  {
   "cell_type": "code",
   "execution_count": 4,
   "id": "dde6d183",
   "metadata": {},
   "outputs": [],
   "source": [
    "airquality = get_rdataset(\"airquality\", \"datasets\").data\n",
    "data = airquality.dropna()\n",
    "\n",
    "x_var = [\"Solar.R\", \"Wind\", \"Temp\", \"Month\"]\n",
    "y_var = \"Ozone\"\n",
    "\n",
    "x_train = data[x_var]\n",
    "y_train = data[y_var]"
   ]
  },
  {
   "cell_type": "code",
   "execution_count": 5,
   "id": "1d43ed9b",
   "metadata": {},
   "outputs": [],
   "source": [
    "model = xgboost_model(x_train=x_train, y_train=y_train, from_file=True)"
   ]
  },
  {
   "cell_type": "code",
   "execution_count": 6,
   "id": "8d28844a",
   "metadata": {},
   "outputs": [
    {
     "name": "stdout",
     "output_type": "stream",
     "text": [
      "   explain_id         none    Solar.R        Wind        Temp     Month\n",
      "1         NaN -1097.314474  146.53804  442.288023  498.620822  3.502053\n"
     ]
    }
   ],
   "source": [
    "explanation_SAGE = explain(\n",
    "    model = model,\n",
    "    x_train = x_train,\n",
    "    x_explain = x_train,\n",
    "    approach = 'independence',\n",
    "    phi0 = y_train.mean().item(),\n",
    "    seed=1,\n",
    "    sage = True, \n",
    "    response = y_train, \n",
    "    verbose = None\n",
    ")\n",
    "\n",
    "print(explanation_SAGE[\"shapley_values_est\"])"
   ]
  },
  {
   "cell_type": "code",
   "execution_count": 7,
   "id": "dfaea89d",
   "metadata": {},
   "outputs": [],
   "source": [
    "explanation_SHAP = explain(   \n",
    "    model = model,\n",
    "    x_train = x_train,\n",
    "    x_explain = x_train,\n",
    "    approach = 'independence',\n",
    "    phi0 = float(y_train.mean().item()),\n",
    "    seed= 1,\n",
    "    verbose = None\n",
    ")\n",
    "\n",
    "# print(explanation_SHAP[\"shapley_values_est\"])"
   ]
  },
  {
   "cell_type": "markdown",
   "id": "16dfb445",
   "metadata": {},
   "source": [
    "### Test plotting"
   ]
  },
  {
   "cell_type": "code",
   "execution_count": 8,
   "id": "98eeae0d",
   "metadata": {},
   "outputs": [],
   "source": [
    "from shaprpy.plot import plot"
   ]
  },
  {
   "cell_type": "code",
   "execution_count": 9,
   "id": "88482202",
   "metadata": {},
   "outputs": [],
   "source": [
    "from shap import plots, Explanation"
   ]
  },
  {
   "cell_type": "code",
   "execution_count": 10,
   "id": "75eefef8",
   "metadata": {},
   "outputs": [
    {
     "data": {
      "text/plain": [
       "(1, 6)"
      ]
     },
     "execution_count": 10,
     "metadata": {},
     "output_type": "execute_result"
    }
   ],
   "source": [
    "explanation_SAGE[\"shapley_values_est\"].shape"
   ]
  },
  {
   "cell_type": "code",
   "execution_count": 11,
   "id": "4ff74d08",
   "metadata": {},
   "outputs": [
    {
     "data": {
      "text/plain": [
       "(111, 6)"
      ]
     },
     "execution_count": 11,
     "metadata": {},
     "output_type": "execute_result"
    }
   ],
   "source": [
    "explanation_SHAP[\"shapley_values_est\"].shape"
   ]
  },
  {
   "cell_type": "code",
   "execution_count": 12,
   "id": "905410a3",
   "metadata": {},
   "outputs": [],
   "source": [
    "shap_values_df = explanation_SHAP['shapley_values_est']\n",
    "feature_names = shap_values_df.columns.drop(['explain_id', 'none'])\n",
    "\n",
    "shap_vals = shap_values_df[feature_names].values\n",
    "base_values = shap_values_df[\"none\"].values\n",
    "data = shap_values_df[feature_names].values\n",
    "\n",
    "explanation = Explanation(\n",
    "    values=shap_vals,\n",
    "    base_values=base_values,\n",
    "    data=data,\n",
    "    feature_names=feature_names.tolist()\n",
    ")"
   ]
  },
  {
   "cell_type": "code",
   "execution_count": 22,
   "id": "00faf1a5",
   "metadata": {},
   "outputs": [
    {
     "data": {
      "text/plain": [
       "9"
      ]
     },
     "execution_count": 22,
     "metadata": {},
     "output_type": "execute_result"
    }
   ],
   "source": [
    "len(range(1,10))"
   ]
  },
  {
   "cell_type": "code",
   "execution_count": 30,
   "id": "a14d0f88",
   "metadata": {},
   "outputs": [
    {
     "data": {
      "image/png": "[encoded data removed]",
      "text/plain": [
       "<Figure size 800x350 with 1 Axes>"
      ]
     },
     "metadata": {},
     "output_type": "display_data"
    }
   ],
   "source": [
    "plots.bar(explanation[slice(10)]) "
   ]
  },
  {
   "cell_type": "code",
   "execution_count": null,
   "id": "f61d128b",
   "metadata": {},
   "outputs": [
    {
     "ename": "SyntaxError",
     "evalue": "invalid syntax. Perhaps you forgot a comma? (3139962689.py, line 1)",
     "output_type": "error",
     "traceback": [
      "\u001b[0;36m  Cell \u001b[0;32mIn[1], line 1\u001b[0;36m\u001b[0m\n\u001b[0;31m    plot(explanation_SHAP, indexing=slice(10) plot_mean = False)\u001b[0m\n\u001b[0m                                    ^\u001b[0m\n\u001b[0;31mSyntaxError\u001b[0m\u001b[0;31m:\u001b[0m invalid syntax. Perhaps you forgot a comma?\n"
     ]
    }
   ],
   "source": [
    "plot(explanation_SHAP, indexing=slice(10), plot_mean = False)"
   ]
  }
 ],
 "metadata": {
  "kernelspec": {
   "display_name": "shapr-venv",
   "language": "python",
   "name": "python3"
  },
  "language_info": {
   "codemirror_mode": {
    "name": "ipython",
    "version": 3
   },
   "file_extension": ".py",
   "mimetype": "text/x-python",
   "name": "python",
   "nbconvert_exporter": "python",
   "pygments_lexer": "ipython3",
   "version": "3.10.12"
  }
 },
 "nbformat": 4,
 "nbformat_minor": 5
}
